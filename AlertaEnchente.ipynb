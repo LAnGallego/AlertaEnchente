{
  "nbformat": 4,
  "nbformat_minor": 0,
  "metadata": {
    "colab": {
      "provenance": [],
      "authorship_tag": "ABX9TyN1amO3X5AtTWKKxmsUTO5G",
      "include_colab_link": true
    },
    "kernelspec": {
      "name": "python3",
      "display_name": "Python 3"
    },
    "language_info": {
      "name": "python"
    }
  },
  "cells": [
    {
      "cell_type": "markdown",
      "metadata": {
        "id": "view-in-github",
        "colab_type": "text"
      },
      "source": [
        "<a href=\"https://colab.research.google.com/github/LAnGallego/AlertaEnchente/blob/main/AlertaEnchente.ipynb\" target=\"_parent\"><img src=\"https://colab.research.google.com/assets/colab-badge.svg\" alt=\"Open In Colab\"/></a>"
      ]
    },
    {
      "cell_type": "code",
      "execution_count": 11,
      "metadata": {
        "id": "9D7Tke96r505"
      },
      "outputs": [],
      "source": [
        "\n",
        "!pip install -q -U google-generativeai\n",
        "\n"
      ]
    },
    {
      "cell_type": "code",
      "source": [
        "#Configurações iniciais\n",
        "import google.generativeai as genai\n",
        "import numpy as np\n",
        "import pandas as pd\n",
        "\n",
        "import requests\n",
        "\n",
        "from google.colab import userdata\n",
        "api_key = userdata.get('SECRET_KEY')\n",
        "\n",
        "genai.configure(api_key = api_key)\n",
        "\n",
        "for m in genai.list_models():\n",
        "  if 'embedContent' in m.supported_generation_methods:\n",
        "    print(m.name)\n",
        "\n",
        "\n"
      ],
      "metadata": {
        "colab": {
          "base_uri": "https://localhost:8080/",
          "height": 52
        },
        "id": "6KVcJR2n8L-8",
        "outputId": "ee3891af-bf23-4b72-f788-07929ba0c37b"
      },
      "execution_count": 94,
      "outputs": [
        {
          "output_type": "stream",
          "name": "stdout",
          "text": [
            "models/embedding-001\n",
            "models/text-embedding-004\n"
          ]
        }
      ]
    },
    {
      "cell_type": "code",
      "source": [
        "title = \"A próxima geração de IA para desenvolvedores e google workspace\"\n",
        "sample_text = (\"Título: A próxima geração de IA para desenvolvedores e google workspace\"\n",
        "                \"\\n\"\n",
        "                \"Artigo completo: \\n\"\n",
        "              \"\\n\"\n",
        "              \"Gemini API Google AI studio: uma maneira acessível de explorar e criar protótipos com aplicações de IA generativa\")\n",
        "embedding = genai.embed_content(model=\"models/embedding-001\",\n",
        "                                 content=sample_text,\n",
        "                                 title=title,\n",
        "                                 task_type=\"RETRIEVAL_DOCUMENT\")\n",
        "print(embedding)\n"
      ],
      "metadata": {
        "colab": {
          "base_uri": "https://localhost:8080/",
          "height": 54
        },
        "id": "msReBxWsRMYc",
        "outputId": "b62aa792-d6a9-40f1-e858-32040332c5aa"
      },
      "execution_count": 95,
      "outputs": [
        {
          "output_type": "stream",
          "name": "stdout",
          "text": [
            "{'embedding': [0.047704365, -0.038116436, -0.013336283, 0.015170968, 0.06544785, -0.01089528, -0.024689905, -0.02170119, 0.061980527, 0.056286238, 0.012694725, 0.0053620334, -0.051407944, -0.018484268, 0.0066176937, -0.025848025, 0.01854217, -0.008084727, -0.043392953, -0.0019156138, 0.012856519, 0.0081267245, -0.028519986, -0.057854634, -0.01934927, 0.020270664, 0.02041518, -0.039943915, -0.03970638, 0.021621916, -0.043649495, 0.057142343, -0.026400264, 0.008739, -0.039117165, -0.04514109, -0.02650074, -0.05001597, -0.00081134797, -0.0017510763, 0.0081596775, -0.08677764, -0.00606948, 0.029403245, -0.0048742006, -0.016199743, 0.043065164, 0.041779127, 0.01613166, -0.06010423, 0.02678715, 0.029948542, 0.065747954, -0.04936427, -0.011132892, -0.009787684, 0.028662976, -0.038353287, 0.02273034, 0.00049383787, 0.0027709976, 0.02210621, -0.016863348, 0.052026346, 0.018175397, -0.062278118, -0.044692997, -0.0065305196, 0.014318036, 0.047260553, 0.009355491, 0.011290865, 0.062085375, -0.05937321, -0.036630373, -0.11366311, -0.041262858, 0.037107795, -0.004206343, 0.021966683, 0.009411721, -0.07720275, -0.052734133, -0.039529294, -0.01631357, 0.035259724, -0.048817605, -0.023309378, 0.047885522, 0.0018731655, 0.014282077, -0.0339689, 0.055342752, -0.043712676, -0.006907614, 0.086495124, -0.059814367, -0.017216215, -0.0035017708, -0.07682872, -0.013403987, 0.010964705, -0.04908188, -5.821929e-05, 0.02255225, 0.037442915, -0.018707823, 0.014412991, -0.050436344, 0.11130303, -0.035578173, -0.0122716995, 0.026607914, -0.06729305, 0.041572675, -0.018209161, 0.014151853, 0.048438333, 0.0025220108, 0.047308236, 0.04195171, 0.030164145, 0.03603973, 0.00048034615, -0.04615716, 0.019875564, -0.0423736, 0.014442164, 0.062620096, 0.034204785, 0.0145708285, -0.04442917, -0.029500296, 0.04126354, 0.044246886, 0.04551593, 0.020169375, -0.014887822, 0.05212333, 0.058410157, -0.0030907819, 0.04271164, -0.0041375505, -0.013364624, 0.0004463468, 0.08845364, -0.07806248, -0.015475074, 0.03283826, -0.008733118, -0.04324022, -0.002695947, -0.08711178, 0.04990898, 0.0436625, 0.019612765, -0.035251465, 0.06006291, 0.022621963, 0.012021548, 0.037105307, -0.010169048, -0.00030029906, 0.006893276, -0.016825749, -0.026197003, -0.0042691575, 0.013352074, 0.019652303, 0.03435963, 0.008261362, 0.0058606225, -0.03045799, -0.055755537, -0.011483695, -0.03337317, 0.010158263, -0.006213297, -0.04125259, 0.020955335, -0.039731946, -0.058606677, 0.039820682, 0.027040394, 0.006060327, -0.021642203, 0.042043947, -0.026107222, -0.07748108, 0.035934642, -0.0035778892, -0.030919876, -0.020155584, 0.0018190092, -0.03416017, 0.037579767, 0.019506667, 0.019613817, 0.015992332, -0.019515794, 0.005463422, 0.069148965, 0.037291177, 0.0028856688, -0.0035401208, 0.039788462, 0.07784114, -0.01809151, -0.036233414, 0.02879484, -0.043462414, -0.00017824215, 0.027926236, 0.033108428, 0.027205287, -0.02384852, -0.009208753, -0.0077021266, -0.022115314, -0.045457732, -0.019740831, -0.0034925125, -0.0252934, -0.019625697, -0.037772197, 0.07818932, -0.060223877, 0.055851016, 0.04475392, -0.07482737, 0.0104027, 0.06465358, 0.067184046, 0.00044030006, 0.044548333, 0.014265164, 0.009357713, 0.015000085, 0.042154726, 0.044449106, -0.032272205, 0.054524288, 0.047344647, 0.035400275, -0.057274684, -0.002851383, 0.01077275, 0.053696677, 0.00039680707, 0.03582898, -0.014820119, -0.047807638, -0.056567077, 0.06380818, -0.022592822, -0.004990122, -0.0614833, -0.07341235, 0.060787242, -0.0023716788, 0.06878248, -0.03911678, 0.013883792, 0.0017280403, 0.0012968766, -0.049893472, 0.01897105, 0.034119282, -0.030157374, 0.04064444, -0.026904687, -0.0620778, 0.051382218, 0.05591078, 0.00826461, 0.027331853, -1.3091761e-05, 0.035987552, 0.06576807, -0.07830031, 0.0034103787, 0.04297373, 0.0055926563, -0.07482244, -0.053713873, -0.0003110937, -0.004809944, -0.04915103, -0.017095907, -0.058175478, -0.066091046, 0.043137986, -0.005814958, 0.025471486, -0.054094207, 0.0011675322, -0.035207625, 0.0371479, 0.052380405, -0.022935146, -0.026486078, -0.06195956, -0.033728156, -0.07447138, -0.021559142, -0.041193906, -0.010759129, -0.054650746, 0.050739933, 0.044844903, 0.0013668647, -0.03649526, -0.012747901, 0.020146715, 0.08272851, 0.041838475, -0.033348724, 0.010693798, -0.008174032, 0.05814821, 0.0018301446, 0.0026004645, -0.011808727, 0.0023207306, -0.021607513, 0.04292092, -0.036127754, -0.008726324, -0.012934591, 0.019898368, -0.008501538, -0.0042376565, -0.019393055, 0.04047161, 0.061856207, 0.0042622024, -0.04663053, 0.009342539, -0.010985482, -0.03387901, -0.0037116895, -0.006581059, -0.0037728571, -0.043179244, 0.03083403, 0.004994758, -0.10255376, -0.012412145, 0.06334761, 0.009851323, -0.0017179007, 0.049175967, -0.017448978, -0.034412723, -0.0032787984, -0.016150702, 0.033135906, 0.023827009, 0.06153874, -0.033275425, -0.012491249, 0.04193515, -0.00840413, 0.0146207055, 0.008637588, 0.05447922, 0.018283563, -0.008085793, -0.0048029977, 0.020358492, 0.013508938, -0.033989534, 0.0163648, -0.01924658, 0.017158953, -0.005058991, -0.026992153, -0.060674552, -0.013771853, 0.030267032, -0.018003944, -0.051849917, 0.045916032, 0.050876535, -0.011590055, 0.0023884235, 0.03220405, 0.058274865, 0.0036583738, 0.048795212, 0.018770931, 0.008442651, 0.089741684, 0.030888394, 0.0292697, 0.016619366, -0.004486124, -0.034238502, 0.028708464, -0.025589993, -0.014261893, -0.03822872, -0.021134019, -0.030951925, -0.021055004, 0.0018424268, -0.034233395, -0.03871332, -0.04702768, -0.04354104, 0.02190215, -0.004049115, 0.0558763, -0.07002468, -0.058331963, -0.011862811, 0.011848525, -0.0075602215, -0.013961236, -0.014373059, -0.017094124, 0.024518028, 0.022686502, -0.034718517, -0.045234054, -0.009600464, 0.012478279, -0.044899095, 0.0064279526, 0.021681672, 0.018596968, 0.016625402, 0.008326882, 0.012517166, -0.02609242, -0.039934184, 0.0005401756, 0.0014726969, -0.017272905, 0.02792272, 0.029941956, -0.013181322, -0.015295701, 0.0015213948, -0.06151675, -0.069523126, 0.0023042588, 0.007947143, 0.045428902, -0.05326638, 0.016159866, -0.05310356, -0.03548013, -0.043203726, -0.029883098, 0.016786704, 0.021954047, 0.01710116, -0.005356495, 0.012152048, 0.015358048, -0.02283424, -0.016401269, -0.017430592, 0.06085367, -0.013242122, -0.00035240303, -0.005239278, 0.010496285, 0.029644322, 0.018339923, -0.08273354, 0.031643517, -0.019867953, 0.01861031, 0.010098058, -0.056460083, 0.027086804, -0.028046582, 0.018761959, -0.025975093, 0.0246027, 0.01957106, -0.023648323, -0.017014852, -0.04217622, 0.018779991, 0.0029481195, 0.010981539, 0.015373995, 0.03200865, 0.031201605, -0.04268509, -0.055963214, -0.015744949, -0.021862136, -0.04100908, 0.012408945, 0.04810481, 0.023257196, -0.0064722802, -0.02083438, -0.012674463, 0.026864506, 0.048635833, -0.030974742, 0.019512985, -0.01848193, -0.0049053445, -0.038571503, -0.017020306, -0.009772964, 0.01055887, -0.042817138, 0.08364472, -0.040998112, -0.019801224, 0.03434691, 0.027916638, -0.010107671, 0.07565077, 0.029941235, -0.065606505, 0.00089834444, 0.019219337, -0.050462507, 0.013312439, -0.006159018, 0.008378415, 0.023766115, -0.022343913, 0.0661713, -0.0036941918, -0.051421195, 0.023158573, 0.008417595, 0.05119817, -0.013091252, -0.03204318, 0.016982472, 0.006531931, -0.062607534, 0.031854574, 0.02089139, -0.030465035, -0.010863056, -0.0051272837, -0.06341668, 0.021038225, -0.014882514, -0.008572508, 0.013894304, -0.0012375355, 0.022592096, 0.04105257, -0.04914901, -0.009644919, -0.010793372, 0.041017473, 0.015638769, 0.025131749, -0.009353742, -0.027099459, 0.004789693, 0.057301845, -0.0010056304, -0.014139921, -0.01062921, 0.027271984, -0.028715666, 0.006184832, 0.015279162, 0.020504404, 0.002985851, 0.050287616, -0.0092503, -0.031659167, -0.016002132, -0.04351977, 0.043058913, 0.040205035, -0.0069882274, -0.033001687, 0.045353707, -0.040762972, -0.0034195334, 0.010394921, 0.03391214, 0.043548085, 0.029557133, -0.062417895, 0.05880497, 0.015254669, 0.020121591, 0.025257232, -0.008384731, 0.026250707, -0.015055464, 0.034832943, 0.057601344, -0.030081049, -0.034836095, 0.048200164, -0.016639844, -0.019518638, 0.012657844, -0.0047663613, 0.014100731, 0.015953675, -0.0010602663, 0.01969668, -0.08364172, 0.01595071, -0.03542559, -0.060502604, -0.015698409, 0.033419877, 0.013268854, -0.029123811, -0.0045242985, 0.040890824, 0.035865862, 0.022480058, 0.03355642, 0.020427553, 0.020605914, -0.07670493, 0.027040757, 0.05220954, 0.052701253, 0.05875197, 0.06074642, 0.016148396, -0.048041355, -0.06038207, -0.0031192873, 0.015137273, 0.061484646, -0.012285301, -0.04379072, -0.044520635, -0.011591567, -0.008970185, -0.032071598, -0.038452648, 0.006324253, -0.012117484, -0.0689671, -0.05610336, 0.0037609818, -0.003214653, 0.01322, 0.01629393, -0.00012649228, 0.034129817, 0.0018311854, -0.06684957, -0.053477682, 0.027505422, -0.025150456, -0.07117751, 0.012032687, 0.006755635, -0.0042905994, -0.06413411, -0.03422594, -0.0603279, -0.08554423, -0.044135157, 0.036085546, -0.033699732, 0.054833487, 0.02384209, -0.013426525, 0.026566612, 0.065040536, 0.012858102, -0.0094017275, 0.001633859, -0.016044045, 0.002540193, -0.030382147, 0.0020570292, -0.00056429807, -0.024248946, 0.018730775, 0.046686873, 0.0005121566, -0.010726375, -0.022178482, -0.021638216, -0.032078575, -0.00352691, -0.012498824, -0.009971475, -0.037728194, -0.032675855, -0.056374367, 0.059362136, 0.039929327, -0.021002272, -0.016222313, -0.02028846, -0.02805175, 0.007226172, -0.005601744, -0.032195464, -0.0005944164, -0.035766657, 0.049565114, 0.061579894, -0.03730745, -0.08246042, 0.015832487, -0.038124185, 0.010801974, -0.03628296, -0.0033588374, -0.021390362, 0.032808103, 0.004060302, 0.0019112868, 0.0069533894, -0.034513507, -0.08768457, 0.024223179, -0.027097702, 0.018873133, -0.03759533, 0.0029516807, 0.06546662, -0.004795864, -0.053522673, -0.005525872, -0.0207198, 0.019104958, -0.04060501, 0.06038783, -0.048291452, -0.07569805, -0.023920842, -0.029350989, -0.015081885, 0.057626586, 0.032345697, -0.033451736, 0.008068992, -0.009893516, -0.008824057, -0.07371123, -0.034038, -0.027586203, 0.001280134, 0.046187766, -0.008503626, -0.006220914, -0.004389251, -0.038590875, 0.012483712, 0.0063674506, -0.04197047, -0.03738937, 0.010095279, -0.031825166, 0.008989628, 0.091911584, -0.05370882, 0.013868652]}\n"
          ]
        }
      ]
    },
    {
      "cell_type": "code",
      "source": [],
      "metadata": {
        "id": "gqWdOL7OrweP"
      },
      "execution_count": 95,
      "outputs": []
    },
    {
      "cell_type": "code",
      "source": [
        "def  embed_fn(title, text):\n",
        "  return genai.embed_content(model=model,\n",
        "                                 content=text,\n",
        "                                 title=title,\n",
        "                                 task_type=\"RETRIEVAL_DOCUMENT\")['embedding'] # originado de {'embedding': [0.047704365, -0.038116436, -0.013336283\n",
        "\n",
        "\n"
      ],
      "metadata": {
        "id": "9kMg2ksldaXc"
      },
      "execution_count": 25,
      "outputs": []
    },
    {
      "cell_type": "code",
      "source": [
        "def gerar_e_buscar_consulta(consulta, base, model):\n",
        "  embedding_da_consulta =  genai.embed_content(model=model,\n",
        "                                 content=consulta,\n",
        "                                 task_type=\"RETRIEVAL_QUERY\")['embedding'] # originado de {'embedding':...\n",
        "\n",
        "  produto_escalares = np.dot(np.stack(df['embedding']), embedding_da_consulta )\n",
        "  indice = np.argmax(produto_escalares)\n",
        "  return df.iloc[indice]['Conteudo']\n",
        "\n",
        "\n",
        "\n"
      ],
      "metadata": {
        "id": "hebvFO28hEtj"
      },
      "execution_count": 96,
      "outputs": []
    },
    {
      "cell_type": "markdown",
      "source": [],
      "metadata": {
        "id": "Q-akQA2_mlke"
      }
    },
    {
      "cell_type": "code",
      "source": [
        "import requests\n",
        "\n",
        "from google.colab import userdata\n",
        "api_key_w = userdata.get('KEY_WHETHER')\n",
        "\n",
        "city = 'Porto Alegre'\n",
        "url = f\"http://api.weatherapi.com/v1/current.json?key={api_key_w}&q={city}&aqi=no&lang=pt\"\n",
        "\n",
        "response = requests.get(url)\n",
        "\n",
        "if response.status_code == 200:\n",
        "    data = response.json()\n",
        "    temp_c = data['current']['temp_c']\n",
        "    condition = data['current']['condition']['text']\n",
        "    prec = data['current']['precip_mm']\n",
        "    data_local = data['location']['localtime']\n",
        "    print(f\"data e hora: {data_local}  Temperatura em {city}: {temp_c}°C, {condition}, precipitação de {prec}\")\n",
        "    Tempo = \"data e hora:\" + data_local + \", Temperatura em \" + city + \"  \"  + str(temp_c) + \" °C, \"  + \"Condição:\" + condition + \", precipitação de \" + str(prec)\n",
        "\n",
        "    print(Tempo)\n",
        "else:\n",
        "    print(\"Erro na requisição.\")"
      ],
      "metadata": {
        "colab": {
          "base_uri": "https://localhost:8080/"
        },
        "id": "LhP6jcOvYsaw",
        "outputId": "f3d1ac9a-9e28-4129-a994-a7edc278a3b5"
      },
      "execution_count": 107,
      "outputs": [
        {
          "output_type": "stream",
          "name": "stdout",
          "text": [
            "data e hora: 2024-05-11 20:18  Temperatura em Porto Alegre: 19.0°C, Neblina, precipitação de 0.06\n",
            "data e hora:2024-05-11 20:18, Temperatura em Porto Alegre  19.0 °C, Condição:Neblina, precipitação de 0.06\n"
          ]
        }
      ]
    },
    {
      "cell_type": "code",
      "source": [
        "DOCUMENT1 = {\n",
        "    \"title\": \"Previsao\",\n",
        "    \"content\": Tempo\n",
        "}\n",
        "\n",
        "documents = [DOCUMENT1]\n",
        "df = pd.DataFrame(documents) #tranforama em data frame\n",
        "df.columns=['Titulo', 'Conteudo']\n",
        "df"
      ],
      "metadata": {
        "colab": {
          "base_uri": "https://localhost:8080/",
          "height": 89
        },
        "id": "ctwp4B4ujEWy",
        "outputId": "f2c8ce3b-8f43-4707-e519-a814879387b8"
      },
      "execution_count": 108,
      "outputs": [
        {
          "output_type": "execute_result",
          "data": {
            "text/plain": [
              "     Titulo                                           Conteudo\n",
              "0  Previsao  data e hora:2024-05-11 20:18, Temperatura em P..."
            ],
            "text/html": [
              "\n",
              "  <div id=\"df-ebd07bb9-5fcc-434b-bc52-73ed0ce8432b\" class=\"colab-df-container\">\n",
              "    <div>\n",
              "<style scoped>\n",
              "    .dataframe tbody tr th:only-of-type {\n",
              "        vertical-align: middle;\n",
              "    }\n",
              "\n",
              "    .dataframe tbody tr th {\n",
              "        vertical-align: top;\n",
              "    }\n",
              "\n",
              "    .dataframe thead th {\n",
              "        text-align: right;\n",
              "    }\n",
              "</style>\n",
              "<table border=\"1\" class=\"dataframe\">\n",
              "  <thead>\n",
              "    <tr style=\"text-align: right;\">\n",
              "      <th></th>\n",
              "      <th>Titulo</th>\n",
              "      <th>Conteudo</th>\n",
              "    </tr>\n",
              "  </thead>\n",
              "  <tbody>\n",
              "    <tr>\n",
              "      <th>0</th>\n",
              "      <td>Previsao</td>\n",
              "      <td>data e hora:2024-05-11 20:18, Temperatura em P...</td>\n",
              "    </tr>\n",
              "  </tbody>\n",
              "</table>\n",
              "</div>\n",
              "    <div class=\"colab-df-buttons\">\n",
              "\n",
              "  <div class=\"colab-df-container\">\n",
              "    <button class=\"colab-df-convert\" onclick=\"convertToInteractive('df-ebd07bb9-5fcc-434b-bc52-73ed0ce8432b')\"\n",
              "            title=\"Convert this dataframe to an interactive table.\"\n",
              "            style=\"display:none;\">\n",
              "\n",
              "  <svg xmlns=\"http://www.w3.org/2000/svg\" height=\"24px\" viewBox=\"0 -960 960 960\">\n",
              "    <path d=\"M120-120v-720h720v720H120Zm60-500h600v-160H180v160Zm220 220h160v-160H400v160Zm0 220h160v-160H400v160ZM180-400h160v-160H180v160Zm440 0h160v-160H620v160ZM180-180h160v-160H180v160Zm440 0h160v-160H620v160Z\"/>\n",
              "  </svg>\n",
              "    </button>\n",
              "\n",
              "  <style>\n",
              "    .colab-df-container {\n",
              "      display:flex;\n",
              "      gap: 12px;\n",
              "    }\n",
              "\n",
              "    .colab-df-convert {\n",
              "      background-color: #E8F0FE;\n",
              "      border: none;\n",
              "      border-radius: 50%;\n",
              "      cursor: pointer;\n",
              "      display: none;\n",
              "      fill: #1967D2;\n",
              "      height: 32px;\n",
              "      padding: 0 0 0 0;\n",
              "      width: 32px;\n",
              "    }\n",
              "\n",
              "    .colab-df-convert:hover {\n",
              "      background-color: #E2EBFA;\n",
              "      box-shadow: 0px 1px 2px rgba(60, 64, 67, 0.3), 0px 1px 3px 1px rgba(60, 64, 67, 0.15);\n",
              "      fill: #174EA6;\n",
              "    }\n",
              "\n",
              "    .colab-df-buttons div {\n",
              "      margin-bottom: 4px;\n",
              "    }\n",
              "\n",
              "    [theme=dark] .colab-df-convert {\n",
              "      background-color: #3B4455;\n",
              "      fill: #D2E3FC;\n",
              "    }\n",
              "\n",
              "    [theme=dark] .colab-df-convert:hover {\n",
              "      background-color: #434B5C;\n",
              "      box-shadow: 0px 1px 3px 1px rgba(0, 0, 0, 0.15);\n",
              "      filter: drop-shadow(0px 1px 2px rgba(0, 0, 0, 0.3));\n",
              "      fill: #FFFFFF;\n",
              "    }\n",
              "  </style>\n",
              "\n",
              "    <script>\n",
              "      const buttonEl =\n",
              "        document.querySelector('#df-ebd07bb9-5fcc-434b-bc52-73ed0ce8432b button.colab-df-convert');\n",
              "      buttonEl.style.display =\n",
              "        google.colab.kernel.accessAllowed ? 'block' : 'none';\n",
              "\n",
              "      async function convertToInteractive(key) {\n",
              "        const element = document.querySelector('#df-ebd07bb9-5fcc-434b-bc52-73ed0ce8432b');\n",
              "        const dataTable =\n",
              "          await google.colab.kernel.invokeFunction('convertToInteractive',\n",
              "                                                    [key], {});\n",
              "        if (!dataTable) return;\n",
              "\n",
              "        const docLinkHtml = 'Like what you see? Visit the ' +\n",
              "          '<a target=\"_blank\" href=https://colab.research.google.com/notebooks/data_table.ipynb>data table notebook</a>'\n",
              "          + ' to learn more about interactive tables.';\n",
              "        element.innerHTML = '';\n",
              "        dataTable['output_type'] = 'display_data';\n",
              "        await google.colab.output.renderOutput(dataTable, element);\n",
              "        const docLink = document.createElement('div');\n",
              "        docLink.innerHTML = docLinkHtml;\n",
              "        element.appendChild(docLink);\n",
              "      }\n",
              "    </script>\n",
              "  </div>\n",
              "\n",
              "\n",
              "  <div id=\"id_f56e8066-ce99-4097-b4a1-15c19bf33249\">\n",
              "    <style>\n",
              "      .colab-df-generate {\n",
              "        background-color: #E8F0FE;\n",
              "        border: none;\n",
              "        border-radius: 50%;\n",
              "        cursor: pointer;\n",
              "        display: none;\n",
              "        fill: #1967D2;\n",
              "        height: 32px;\n",
              "        padding: 0 0 0 0;\n",
              "        width: 32px;\n",
              "      }\n",
              "\n",
              "      .colab-df-generate:hover {\n",
              "        background-color: #E2EBFA;\n",
              "        box-shadow: 0px 1px 2px rgba(60, 64, 67, 0.3), 0px 1px 3px 1px rgba(60, 64, 67, 0.15);\n",
              "        fill: #174EA6;\n",
              "      }\n",
              "\n",
              "      [theme=dark] .colab-df-generate {\n",
              "        background-color: #3B4455;\n",
              "        fill: #D2E3FC;\n",
              "      }\n",
              "\n",
              "      [theme=dark] .colab-df-generate:hover {\n",
              "        background-color: #434B5C;\n",
              "        box-shadow: 0px 1px 3px 1px rgba(0, 0, 0, 0.15);\n",
              "        filter: drop-shadow(0px 1px 2px rgba(0, 0, 0, 0.3));\n",
              "        fill: #FFFFFF;\n",
              "      }\n",
              "    </style>\n",
              "    <button class=\"colab-df-generate\" onclick=\"generateWithVariable('df')\"\n",
              "            title=\"Generate code using this dataframe.\"\n",
              "            style=\"display:none;\">\n",
              "\n",
              "  <svg xmlns=\"http://www.w3.org/2000/svg\" height=\"24px\"viewBox=\"0 0 24 24\"\n",
              "       width=\"24px\">\n",
              "    <path d=\"M7,19H8.4L18.45,9,17,7.55,7,17.6ZM5,21V16.75L18.45,3.32a2,2,0,0,1,2.83,0l1.4,1.43a1.91,1.91,0,0,1,.58,1.4,1.91,1.91,0,0,1-.58,1.4L9.25,21ZM18.45,9,17,7.55Zm-12,3A5.31,5.31,0,0,0,4.9,8.1,5.31,5.31,0,0,0,1,6.5,5.31,5.31,0,0,0,4.9,4.9,5.31,5.31,0,0,0,6.5,1,5.31,5.31,0,0,0,8.1,4.9,5.31,5.31,0,0,0,12,6.5,5.46,5.46,0,0,0,6.5,12Z\"/>\n",
              "  </svg>\n",
              "    </button>\n",
              "    <script>\n",
              "      (() => {\n",
              "      const buttonEl =\n",
              "        document.querySelector('#id_f56e8066-ce99-4097-b4a1-15c19bf33249 button.colab-df-generate');\n",
              "      buttonEl.style.display =\n",
              "        google.colab.kernel.accessAllowed ? 'block' : 'none';\n",
              "\n",
              "      buttonEl.onclick = () => {\n",
              "        google.colab.notebook.generateWithVariable('df');\n",
              "      }\n",
              "      })();\n",
              "    </script>\n",
              "  </div>\n",
              "\n",
              "    </div>\n",
              "  </div>\n"
            ],
            "application/vnd.google.colaboratory.intrinsic+json": {
              "type": "dataframe",
              "variable_name": "df",
              "summary": "{\n  \"name\": \"df\",\n  \"rows\": 1,\n  \"fields\": [\n    {\n      \"column\": \"Titulo\",\n      \"properties\": {\n        \"dtype\": \"string\",\n        \"num_unique_values\": 1,\n        \"samples\": [\n          \"Previsao\"\n        ],\n        \"semantic_type\": \"\",\n        \"description\": \"\"\n      }\n    },\n    {\n      \"column\": \"Conteudo\",\n      \"properties\": {\n        \"dtype\": \"string\",\n        \"num_unique_values\": 1,\n        \"samples\": [\n          \"data e hora:2024-05-11 20:18, Temperatura em Porto Alegre  19.0 \\u00b0C, Condi\\u00e7\\u00e3o:Neblina, precipita\\u00e7\\u00e3o de 0.06\"\n        ],\n        \"semantic_type\": \"\",\n        \"description\": \"\"\n      }\n    }\n  ]\n}"
            }
          },
          "metadata": {},
          "execution_count": 108
        }
      ]
    },
    {
      "cell_type": "code",
      "source": [
        "model='models/embedding-001'\n",
        "def  embed_fn(title, text):\n",
        "  return genai.embed_content(model=model,\n",
        "                                 content=text,\n",
        "                                 title=title,\n",
        "                                 task_type=\"RETRIEVAL_DOCUMENT\")['embedding'] # originado de {'embedding': [0.047704365, -0.038116436, -0.013336283\n",
        "\n",
        "df['embedding']=df.apply(lambda row: embed_fn(row['Titulo'], row['Conteudo']), axis=1 )\n",
        "df"
      ],
      "metadata": {
        "colab": {
          "base_uri": "https://localhost:8080/",
          "height": 89
        },
        "id": "0OaZd-_C5ie4",
        "outputId": "ef0a4a4d-5d0c-4f2a-aa53-9668b5fc147d"
      },
      "execution_count": 109,
      "outputs": [
        {
          "output_type": "execute_result",
          "data": {
            "text/plain": [
              "     Titulo                                           Conteudo  \\\n",
              "0  Previsao  data e hora:2024-05-11 20:18, Temperatura em P...   \n",
              "\n",
              "                                           embedding  \n",
              "0  [0.008899483, -0.022088362, -0.060842477, 0.03...  "
            ],
            "text/html": [
              "\n",
              "  <div id=\"df-fa15ceae-8ee1-4421-bc15-06023330ce68\" class=\"colab-df-container\">\n",
              "    <div>\n",
              "<style scoped>\n",
              "    .dataframe tbody tr th:only-of-type {\n",
              "        vertical-align: middle;\n",
              "    }\n",
              "\n",
              "    .dataframe tbody tr th {\n",
              "        vertical-align: top;\n",
              "    }\n",
              "\n",
              "    .dataframe thead th {\n",
              "        text-align: right;\n",
              "    }\n",
              "</style>\n",
              "<table border=\"1\" class=\"dataframe\">\n",
              "  <thead>\n",
              "    <tr style=\"text-align: right;\">\n",
              "      <th></th>\n",
              "      <th>Titulo</th>\n",
              "      <th>Conteudo</th>\n",
              "      <th>embedding</th>\n",
              "    </tr>\n",
              "  </thead>\n",
              "  <tbody>\n",
              "    <tr>\n",
              "      <th>0</th>\n",
              "      <td>Previsao</td>\n",
              "      <td>data e hora:2024-05-11 20:18, Temperatura em P...</td>\n",
              "      <td>[0.008899483, -0.022088362, -0.060842477, 0.03...</td>\n",
              "    </tr>\n",
              "  </tbody>\n",
              "</table>\n",
              "</div>\n",
              "    <div class=\"colab-df-buttons\">\n",
              "\n",
              "  <div class=\"colab-df-container\">\n",
              "    <button class=\"colab-df-convert\" onclick=\"convertToInteractive('df-fa15ceae-8ee1-4421-bc15-06023330ce68')\"\n",
              "            title=\"Convert this dataframe to an interactive table.\"\n",
              "            style=\"display:none;\">\n",
              "\n",
              "  <svg xmlns=\"http://www.w3.org/2000/svg\" height=\"24px\" viewBox=\"0 -960 960 960\">\n",
              "    <path d=\"M120-120v-720h720v720H120Zm60-500h600v-160H180v160Zm220 220h160v-160H400v160Zm0 220h160v-160H400v160ZM180-400h160v-160H180v160Zm440 0h160v-160H620v160ZM180-180h160v-160H180v160Zm440 0h160v-160H620v160Z\"/>\n",
              "  </svg>\n",
              "    </button>\n",
              "\n",
              "  <style>\n",
              "    .colab-df-container {\n",
              "      display:flex;\n",
              "      gap: 12px;\n",
              "    }\n",
              "\n",
              "    .colab-df-convert {\n",
              "      background-color: #E8F0FE;\n",
              "      border: none;\n",
              "      border-radius: 50%;\n",
              "      cursor: pointer;\n",
              "      display: none;\n",
              "      fill: #1967D2;\n",
              "      height: 32px;\n",
              "      padding: 0 0 0 0;\n",
              "      width: 32px;\n",
              "    }\n",
              "\n",
              "    .colab-df-convert:hover {\n",
              "      background-color: #E2EBFA;\n",
              "      box-shadow: 0px 1px 2px rgba(60, 64, 67, 0.3), 0px 1px 3px 1px rgba(60, 64, 67, 0.15);\n",
              "      fill: #174EA6;\n",
              "    }\n",
              "\n",
              "    .colab-df-buttons div {\n",
              "      margin-bottom: 4px;\n",
              "    }\n",
              "\n",
              "    [theme=dark] .colab-df-convert {\n",
              "      background-color: #3B4455;\n",
              "      fill: #D2E3FC;\n",
              "    }\n",
              "\n",
              "    [theme=dark] .colab-df-convert:hover {\n",
              "      background-color: #434B5C;\n",
              "      box-shadow: 0px 1px 3px 1px rgba(0, 0, 0, 0.15);\n",
              "      filter: drop-shadow(0px 1px 2px rgba(0, 0, 0, 0.3));\n",
              "      fill: #FFFFFF;\n",
              "    }\n",
              "  </style>\n",
              "\n",
              "    <script>\n",
              "      const buttonEl =\n",
              "        document.querySelector('#df-fa15ceae-8ee1-4421-bc15-06023330ce68 button.colab-df-convert');\n",
              "      buttonEl.style.display =\n",
              "        google.colab.kernel.accessAllowed ? 'block' : 'none';\n",
              "\n",
              "      async function convertToInteractive(key) {\n",
              "        const element = document.querySelector('#df-fa15ceae-8ee1-4421-bc15-06023330ce68');\n",
              "        const dataTable =\n",
              "          await google.colab.kernel.invokeFunction('convertToInteractive',\n",
              "                                                    [key], {});\n",
              "        if (!dataTable) return;\n",
              "\n",
              "        const docLinkHtml = 'Like what you see? Visit the ' +\n",
              "          '<a target=\"_blank\" href=https://colab.research.google.com/notebooks/data_table.ipynb>data table notebook</a>'\n",
              "          + ' to learn more about interactive tables.';\n",
              "        element.innerHTML = '';\n",
              "        dataTable['output_type'] = 'display_data';\n",
              "        await google.colab.output.renderOutput(dataTable, element);\n",
              "        const docLink = document.createElement('div');\n",
              "        docLink.innerHTML = docLinkHtml;\n",
              "        element.appendChild(docLink);\n",
              "      }\n",
              "    </script>\n",
              "  </div>\n",
              "\n",
              "\n",
              "  <div id=\"id_e34b9f39-d626-400c-b87c-6012a82e7aaa\">\n",
              "    <style>\n",
              "      .colab-df-generate {\n",
              "        background-color: #E8F0FE;\n",
              "        border: none;\n",
              "        border-radius: 50%;\n",
              "        cursor: pointer;\n",
              "        display: none;\n",
              "        fill: #1967D2;\n",
              "        height: 32px;\n",
              "        padding: 0 0 0 0;\n",
              "        width: 32px;\n",
              "      }\n",
              "\n",
              "      .colab-df-generate:hover {\n",
              "        background-color: #E2EBFA;\n",
              "        box-shadow: 0px 1px 2px rgba(60, 64, 67, 0.3), 0px 1px 3px 1px rgba(60, 64, 67, 0.15);\n",
              "        fill: #174EA6;\n",
              "      }\n",
              "\n",
              "      [theme=dark] .colab-df-generate {\n",
              "        background-color: #3B4455;\n",
              "        fill: #D2E3FC;\n",
              "      }\n",
              "\n",
              "      [theme=dark] .colab-df-generate:hover {\n",
              "        background-color: #434B5C;\n",
              "        box-shadow: 0px 1px 3px 1px rgba(0, 0, 0, 0.15);\n",
              "        filter: drop-shadow(0px 1px 2px rgba(0, 0, 0, 0.3));\n",
              "        fill: #FFFFFF;\n",
              "      }\n",
              "    </style>\n",
              "    <button class=\"colab-df-generate\" onclick=\"generateWithVariable('df')\"\n",
              "            title=\"Generate code using this dataframe.\"\n",
              "            style=\"display:none;\">\n",
              "\n",
              "  <svg xmlns=\"http://www.w3.org/2000/svg\" height=\"24px\"viewBox=\"0 0 24 24\"\n",
              "       width=\"24px\">\n",
              "    <path d=\"M7,19H8.4L18.45,9,17,7.55,7,17.6ZM5,21V16.75L18.45,3.32a2,2,0,0,1,2.83,0l1.4,1.43a1.91,1.91,0,0,1,.58,1.4,1.91,1.91,0,0,1-.58,1.4L9.25,21ZM18.45,9,17,7.55Zm-12,3A5.31,5.31,0,0,0,4.9,8.1,5.31,5.31,0,0,0,1,6.5,5.31,5.31,0,0,0,4.9,4.9,5.31,5.31,0,0,0,6.5,1,5.31,5.31,0,0,0,8.1,4.9,5.31,5.31,0,0,0,12,6.5,5.46,5.46,0,0,0,6.5,12Z\"/>\n",
              "  </svg>\n",
              "    </button>\n",
              "    <script>\n",
              "      (() => {\n",
              "      const buttonEl =\n",
              "        document.querySelector('#id_e34b9f39-d626-400c-b87c-6012a82e7aaa button.colab-df-generate');\n",
              "      buttonEl.style.display =\n",
              "        google.colab.kernel.accessAllowed ? 'block' : 'none';\n",
              "\n",
              "      buttonEl.onclick = () => {\n",
              "        google.colab.notebook.generateWithVariable('df');\n",
              "      }\n",
              "      })();\n",
              "    </script>\n",
              "  </div>\n",
              "\n",
              "    </div>\n",
              "  </div>\n"
            ],
            "application/vnd.google.colaboratory.intrinsic+json": {
              "type": "dataframe",
              "variable_name": "df",
              "summary": "{\n  \"name\": \"df\",\n  \"rows\": 1,\n  \"fields\": [\n    {\n      \"column\": \"Titulo\",\n      \"properties\": {\n        \"dtype\": \"string\",\n        \"num_unique_values\": 1,\n        \"samples\": [\n          \"Previsao\"\n        ],\n        \"semantic_type\": \"\",\n        \"description\": \"\"\n      }\n    },\n    {\n      \"column\": \"Conteudo\",\n      \"properties\": {\n        \"dtype\": \"string\",\n        \"num_unique_values\": 1,\n        \"samples\": [\n          \"data e hora:2024-05-11 20:18, Temperatura em Porto Alegre  19.0 \\u00b0C, Condi\\u00e7\\u00e3o:Neblina, precipita\\u00e7\\u00e3o de 0.06\"\n        ],\n        \"semantic_type\": \"\",\n        \"description\": \"\"\n      }\n    },\n    {\n      \"column\": \"embedding\",\n      \"properties\": {\n        \"dtype\": \"object\",\n        \"semantic_type\": \"\",\n        \"description\": \"\"\n      }\n    }\n  ]\n}"
            }
          },
          "metadata": {},
          "execution_count": 109
        }
      ]
    },
    {
      "cell_type": "code",
      "source": [
        "def gerar_e_buscar_consulta(consulta, base, model):\n",
        "  embedding_da_consulta =  genai.embed_content(model=model,\n",
        "                                 content=consulta,\n",
        "                                 task_type=\"RETRIEVAL_QUERY\")['embedding'] # originado de {'embedding':...\n",
        "\n",
        "  produto_escalares = np.dot(np.stack(df['embedding']), embedding_da_consulta )\n",
        "  indice = np.argmax(produto_escalares)\n",
        "  return df.iloc[indice]['Conteudo']\n"
      ],
      "metadata": {
        "id": "qDzWwotm0rm6"
      },
      "execution_count": 110,
      "outputs": []
    },
    {
      "cell_type": "code",
      "source": [
        "consulta = 'Temperatura?'\n",
        "\n",
        "trecho = gerar_e_buscar_consulta(consulta, df, model)\n",
        "print(trecho)"
      ],
      "metadata": {
        "colab": {
          "base_uri": "https://localhost:8080/",
          "height": 34
        },
        "id": "qNgCGalV1SrQ",
        "outputId": "685c2ee7-d6fd-47b0-d28e-141cbd4b36bf"
      },
      "execution_count": 112,
      "outputs": [
        {
          "output_type": "stream",
          "name": "stdout",
          "text": [
            "data e hora:2024-05-11 20:18, Temperatura em Porto Alegre  19.0 °C, Condição:Neblina, precipitação de 0.06\n"
          ]
        }
      ]
    }
  ]
}