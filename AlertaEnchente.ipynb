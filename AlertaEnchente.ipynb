{
  "nbformat": 4,
  "nbformat_minor": 0,
  "metadata": {
    "colab": {
      "provenance": [],
      "authorship_tag": "ABX9TyPu5+qXeY23+ErOPUT82UvF",
      "include_colab_link": true
    },
    "kernelspec": {
      "name": "python3",
      "display_name": "Python 3"
    },
    "language_info": {
      "name": "python"
    }
  },
  "cells": [
    {
      "cell_type": "markdown",
      "metadata": {
        "id": "view-in-github",
        "colab_type": "text"
      },
      "source": [
        "<a href=\"https://colab.research.google.com/github/LAnGallego/AlertaEnchente/blob/main/AlertaEnchente.ipynb\" target=\"_parent\"><img src=\"https://colab.research.google.com/assets/colab-badge.svg\" alt=\"Open In Colab\"/></a>"
      ]
    },
    {
      "cell_type": "code",
      "execution_count": 11,
      "metadata": {
        "id": "9D7Tke96r505"
      },
      "outputs": [],
      "source": [
        "\n",
        "!pip install -q -U google-generativeai\n",
        "\n"
      ]
    },
    {
      "cell_type": "code",
      "source": [
        "#Configurações iniciais\n",
        "import google.generativeai as genai\n",
        "import numpy as np\n",
        "import pandas as pd\n",
        "\n",
        "import requests\n",
        "\n",
        "from google.colab import userdata\n",
        "api_key = userdata.get('SECRET_KEY')\n",
        "\n",
        "genai.configure(api_key = api_key)\n",
        "\n",
        "for m in genai.list_models():\n",
        "  if 'generateContent' in m.supported_generation_methods:\n",
        "    print(m.name)\n",
        "\n",
        "\n",
        "title = \"A próxima geração de IA para desenvolvedores e google workspace\"\n",
        "sample_text = (\"Título: A próxima geração de IA para desenvolvedores e google workspace\"\n",
        "                \"\\n\"\n",
        "                \"Artigo completo\"\n",
        "              \"\\n\"\n",
        "              \"Gemini API Google AI studio: uma maneira acessível de explorar e criar protótipos com aplicações de IA generativa\")\n"
      ],
      "metadata": {
        "id": "6KVcJR2n8L-8"
      },
      "execution_count": 12,
      "outputs": []
    },
    {
      "cell_type": "code",
      "source": [
        "request = genai.embed_content(model=model,\n",
        "                              content=query,\n",
        "                              task_type=\"retrieval_query\")\n"
      ],
      "metadata": {
        "id": "9Y6Sh1G3Iqgs"
      },
      "execution_count": null,
      "outputs": []
    },
    {
      "cell_type": "code",
      "source": [
        "\n",
        "\n",
        "api_key='b6ee2a44f6c9418dba2155146241105'\n",
        "city = \"São Paulo\"\n",
        "\n",
        "#base_url = \"http://api.openweathermap.org/data/2.5/weather?\"\n",
        "url = f\"http://api.weatherapi.com/v1/current.json?key={api_key}&q={city}&aqi=no\"\n",
        "\n",
        "#url = f\"{base_url}appid={api_key}&q={city}\"\n",
        "response = requests.get(url)\n",
        "\n",
        "\n"
      ],
      "metadata": {
        "id": "gtjJ1uIT8UTz"
      },
      "execution_count": 29,
      "outputs": []
    },
    {
      "cell_type": "code",
      "source": [
        "if response.status_code == 200:\n",
        "    data = response.json()\n",
        "    main = data['main']\n",
        "    temperature = main['temp']\n",
        "    humidity = main['humidity']\n",
        "    pressure = main['pressure']\n",
        "    report = data['weather']\n",
        "    print(f\"Temperatura: {temperature - 273.15:.2f}°C\")\n",
        "    print(f\"Umidade: {humidity}%\")\n",
        "    print(f\"Pressão: {pressure} hPa\")\n",
        "    print(f\"Descrição: {report[0]['description']}\")\n",
        "else:\n",
        "    print(\"Erro na requisição.\")\n",
        "\n",
        "\n",
        "\n",
        "\n",
        "\n"
      ],
      "metadata": {
        "colab": {
          "base_uri": "https://localhost:8080/",
          "height": 211
        },
        "id": "iySf_-RVFUK5",
        "outputId": "bc2638c2-5551-4916-9c3a-fd51563be8c5"
      },
      "execution_count": 30,
      "outputs": [
        {
          "output_type": "error",
          "ename": "KeyError",
          "evalue": "'main'",
          "traceback": [
            "\u001b[0;31m---------------------------------------------------------------------------\u001b[0m",
            "\u001b[0;31mKeyError\u001b[0m                                  Traceback (most recent call last)",
            "\u001b[0;32m<ipython-input-30-d9eadad4411a>\u001b[0m in \u001b[0;36m<cell line: 1>\u001b[0;34m()\u001b[0m\n\u001b[1;32m      1\u001b[0m \u001b[0;32mif\u001b[0m \u001b[0mresponse\u001b[0m\u001b[0;34m.\u001b[0m\u001b[0mstatus_code\u001b[0m \u001b[0;34m==\u001b[0m \u001b[0;36m200\u001b[0m\u001b[0;34m:\u001b[0m\u001b[0;34m\u001b[0m\u001b[0;34m\u001b[0m\u001b[0m\n\u001b[1;32m      2\u001b[0m     \u001b[0mdata\u001b[0m \u001b[0;34m=\u001b[0m \u001b[0mresponse\u001b[0m\u001b[0;34m.\u001b[0m\u001b[0mjson\u001b[0m\u001b[0;34m(\u001b[0m\u001b[0;34m)\u001b[0m\u001b[0;34m\u001b[0m\u001b[0;34m\u001b[0m\u001b[0m\n\u001b[0;32m----> 3\u001b[0;31m     \u001b[0mmain\u001b[0m \u001b[0;34m=\u001b[0m \u001b[0mdata\u001b[0m\u001b[0;34m[\u001b[0m\u001b[0;34m'main'\u001b[0m\u001b[0;34m]\u001b[0m\u001b[0;34m\u001b[0m\u001b[0;34m\u001b[0m\u001b[0m\n\u001b[0m\u001b[1;32m      4\u001b[0m     \u001b[0mtemperature\u001b[0m \u001b[0;34m=\u001b[0m \u001b[0mmain\u001b[0m\u001b[0;34m[\u001b[0m\u001b[0;34m'temp'\u001b[0m\u001b[0;34m]\u001b[0m\u001b[0;34m\u001b[0m\u001b[0;34m\u001b[0m\u001b[0m\n\u001b[1;32m      5\u001b[0m     \u001b[0mhumidity\u001b[0m \u001b[0;34m=\u001b[0m \u001b[0mmain\u001b[0m\u001b[0;34m[\u001b[0m\u001b[0;34m'humidity'\u001b[0m\u001b[0;34m]\u001b[0m\u001b[0;34m\u001b[0m\u001b[0;34m\u001b[0m\u001b[0m\n",
            "\u001b[0;31mKeyError\u001b[0m: 'main'"
          ]
        }
      ]
    },
    {
      "cell_type": "code",
      "source": [
        "import requests\n",
        "\n",
        "api_key = 'b6ee2a44f6c9418dba2155146241105'\n",
        "city = 'Porto Alegre'\n",
        "url = f\"http://api.weatherapi.com/v1/current.json?key={api_key}&q={city}&aqi=no\"\n",
        "\n",
        "response = requests.get(url)\n",
        "\n",
        "if response.status_code == 200:\n",
        "    data = response.json()\n",
        "    temp_c = data['current']['temp_c']\n",
        "    condition = data['current']['condition']['text']\n",
        "    prec = data['current']['precip_mm']\n",
        "    print(f\"Temperatura em {city}: {temp_c}°C, {condition}, precipitação de {prec}\")\n",
        "\n",
        "\n",
        "else:\n",
        "    print(\"Erro na requisição.\")"
      ],
      "metadata": {
        "colab": {
          "base_uri": "https://localhost:8080/"
        },
        "id": "LhP6jcOvYsaw",
        "outputId": "eaa1e15b-5a09-4a6a-9760-fbfbe733f53d"
      },
      "execution_count": 37,
      "outputs": [
        {
          "output_type": "stream",
          "name": "stdout",
          "text": [
            "Temperatura em Porto Alegre: 19.0°C, Light rain, precipitação de 1.67\n"
          ]
        }
      ]
    },
    {
      "cell_type": "code",
      "source": [],
      "metadata": {
        "id": "ctwp4B4ujEWy"
      },
      "execution_count": null,
      "outputs": []
    },
    {
      "cell_type": "code",
      "source": [
        "data\n"
      ],
      "metadata": {
        "colab": {
          "base_uri": "https://localhost:8080/"
        },
        "id": "kn7CENnyYsTZ",
        "outputId": "dacca24f-af24-404f-a4b1-4269277fb84f"
      },
      "execution_count": 22,
      "outputs": [
        {
          "output_type": "execute_result",
          "data": {
            "text/plain": [
              "{'location': {'name': 'London',\n",
              "  'region': 'City of London, Greater London',\n",
              "  'country': 'United Kingdom',\n",
              "  'lat': 51.52,\n",
              "  'lon': -0.11,\n",
              "  'tz_id': 'Europe/London',\n",
              "  'localtime_epoch': 1715443228,\n",
              "  'localtime': '2024-05-11 17:00'},\n",
              " 'current': {'last_updated_epoch': 1715442300,\n",
              "  'last_updated': '2024-05-11 16:45',\n",
              "  'temp_c': 19.0,\n",
              "  'temp_f': 66.2,\n",
              "  'is_day': 1,\n",
              "  'condition': {'text': 'Sunny',\n",
              "   'icon': '//cdn.weatherapi.com/weather/64x64/day/113.png',\n",
              "   'code': 1000},\n",
              "  'wind_mph': 11.9,\n",
              "  'wind_kph': 19.1,\n",
              "  'wind_degree': 50,\n",
              "  'wind_dir': 'NE',\n",
              "  'pressure_mb': 1020.0,\n",
              "  'pressure_in': 30.12,\n",
              "  'precip_mm': 0.0,\n",
              "  'precip_in': 0.0,\n",
              "  'humidity': 60,\n",
              "  'cloud': 0,\n",
              "  'feelslike_c': 19.0,\n",
              "  'feelslike_f': 66.2,\n",
              "  'vis_km': 9.0,\n",
              "  'vis_miles': 5.0,\n",
              "  'uv': 5.0,\n",
              "  'gust_mph': 16.3,\n",
              "  'gust_kph': 26.3}}"
            ]
          },
          "metadata": {},
          "execution_count": 22
        }
      ]
    }
  ]
}